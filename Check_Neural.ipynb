{
  "nbformat": 4,
  "nbformat_minor": 0,
  "metadata": {
    "colab": {
      "name": "Check_Neural.ipynb",
      "private_outputs": true,
      "provenance": [],
      "authorship_tag": "ABX9TyM1HUAyYcidPfqgXwbmsNl8",
      "include_colab_link": true
    },
    "kernelspec": {
      "name": "python3",
      "display_name": "Python 3"
    },
    "language_info": {
      "name": "python"
    }
  },
  "cells": [
    {
      "cell_type": "markdown",
      "metadata": {
        "id": "view-in-github",
        "colab_type": "text"
      },
      "source": [
        "<a href=\"https://colab.research.google.com/github/dntjr41/Community_Detection_Paper/blob/master/Check_Neural.ipynb\" target=\"_parent\"><img src=\"https://colab.research.google.com/assets/colab-badge.svg\" alt=\"Open In Colab\"/></a>"
      ]
    },
    {
      "cell_type": "markdown",
      "source": [
        "# Community Detection Paper\n",
        "\n",
        "## Check Neural Algorithm\n"
      ],
      "metadata": {
        "id": "9jr7rM6Wz2uC"
      }
    },
    {
      "cell_type": "code",
      "source": [
        "# Connect Google Drive\n",
        "\n",
        "from google.colab import drive\n",
        "drive.mount('/content/drive')"
      ],
      "metadata": {
        "id": "VPRoI6clz13j"
      },
      "execution_count": null,
      "outputs": []
    },
    {
      "cell_type": "markdown",
      "source": [
        "# NEURAL algorithm\n"
      ],
      "metadata": {
        "id": "V-Q9DBZM0YAO"
      }
    },
    {
      "cell_type": "code",
      "source": [
        "# Download & Importing the libraries\n",
        "\n",
        "!pip install igraph\n",
        "import igraph\n",
        "import networkx as nx\n",
        "import copy\n",
        "import random\n",
        "import matplotlib.pyplot as plt\n",
        "from scipy.stats import entropy\n",
        "import numpy as np\n",
        "\n",
        "import warnings\n",
        "warnings.filterwarnings(\"ignore\", category=np.VisibleDeprecationWarning)"
      ],
      "metadata": {
        "id": "cXSJWvBA0bZX"
      },
      "execution_count": null,
      "outputs": []
    },
    {
      "cell_type": "code",
      "source": [
        "# Function to create an adjacency list for the graph\n",
        "\n",
        "def get_adj_list(E):\n",
        "\tAdjacency_List = {}\n",
        "\tfor i in range (0, len(E)):\n",
        "\t\te = E[i]\n",
        "\t\ts = e[0]\n",
        "\t\tt = e[1]\n",
        "\t\tif (s in Adjacency_List.keys()):\n",
        "\t\t\tAdjacency_List[s].append(t)\n",
        "\t\telse:\n",
        "\t\t\tAdjacency_List[s] = []\n",
        "\t\t\tAdjacency_List[s].append(t)\n",
        "\t\tif (t in Adjacency_List.keys()):\n",
        "\t\t\tAdjacency_List[t].append(s)\n",
        "\t\telse:\n",
        "\t\t\tAdjacency_List[t] = []\n",
        "\t\t\tAdjacency_List[t].append(s)\n",
        "   \n",
        "\treturn Adjacency_List"
      ],
      "metadata": {
        "id": "yuKS692K0xGQ"
      },
      "execution_count": null,
      "outputs": []
    },
    {
      "cell_type": "code",
      "source": [
        "# Get external connections for target community nodes\n",
        "def ext_conn(comm, target, IG_edgeList):\n",
        "  con = []\n",
        "  for i in comm:\n",
        "    count = 0\n",
        "    for j in target:\n",
        "      if ((i, j) in IG_edgeList or (j, i) in IG_edgeList):\n",
        "        count = count + 1\n",
        "    con.append(count)\n",
        "    \n",
        "  return con"
      ],
      "metadata": {
        "id": "79CD5qBx2YGq"
      },
      "execution_count": null,
      "outputs": []
    },
    {
      "cell_type": "code",
      "source": [
        "# Main method for NEURAL\n",
        "def perm_loss_decep(target_comm, IG_edgeList, deg, in_deg, e_max, comm_max, communities, subedge, subgraph, subvertices, beta, target_comm_index):\n",
        "\n",
        "\tadd_loss = 0\n",
        "\tdel_loss = 0\n",
        "\twhile (True):\n",
        "    \n",
        "\t\tadd_node, loss, max_comm = get_max_loss_node(target_comm, deg[target_comm_index], in_deg[target_comm_index], e_max[target_comm_index], comm_max[target_comm_index])\n",
        "\t\tcon_list = ext_conn(communities[max_comm], target_comm, IG_edgeList)\n",
        "\t\tadd_node_2, loss_2, max_comm_2 = get_max_loss_node_2(communities[max_comm], deg[max_comm], in_deg[max_comm], e_max[max_comm], comm_max[max_comm], con_list)\n",
        "\t\tadd_loss = loss + loss_2\n",
        "\t\tbest_edges = getBestDelExclBridges(target_comm, subedge, subgraph, subvertices)\n",
        "\t\t((del_node, del_node_2), loss) = get_del_max_loss(target_comm, best_edges, deg[target_comm_index], in_deg[target_comm_index], e_max[target_comm_index], subgraph)\n",
        "\t\tdel_loss = loss\n",
        "\t\t\n",
        "\t\tif add_loss >= del_loss and add_loss > 0:\n",
        "\t\t\tif ((add_node, add_node_2) not in IG_edgeList) and ((add_node_2, add_node) not in IG_edgeList):\n",
        "\t\t\t  IG_edgeList.append((add_node, add_node_2))\n",
        "\t\t\t  ind_node = target_comm.index(add_node)\n",
        "\t\t\t  deg[target_comm_index][ind_node] = deg[target_comm_index][ind_node] + 1\n",
        "\t\t\t  e_max[target_comm_index][ind_node] = e_max[target_comm_index][ind_node] + 1\n",
        "\n",
        "\n",
        "\t\t\t  ind_node_2 = communities[max_comm].index(add_node_2)\n",
        "\t\t\t  deg[max_comm][ind_node_2] = deg[max_comm][ind_node_2] + 1\n",
        "\t\t\t  e_max[max_comm][ind_node_2] = e_max[max_comm][ind_node_2] + 1\n",
        "\n",
        "\t\telif del_loss > 0:\n",
        "\t\t\tIG_edgeList.remove((del_node, del_node_2))\n",
        "\t\t\tind_node = target_comm.index(del_node)\n",
        "\t\t\tdeg[target_comm_index][ind_node] = deg[target_comm_index][ind_node] - 1\n",
        "\t\t\tin_deg[target_comm_index][ind_node] = in_deg[target_comm_index][ind_node] - 1\n",
        "\t\t\tind_node = target_comm.index(del_node_2)\n",
        "\t\t\tdeg[target_comm_index][ind_node] = deg[target_comm_index][ind_node] - 1\n",
        "\t\t\tin_deg[target_comm_index][ind_node] = in_deg[target_comm_index][ind_node] - 1\n",
        "\t\t\tsubedge.remove((del_node, del_node_2))\n",
        "\t\t\tsubgraph[del_node].remove(del_node_2)\n",
        "\t\t\tsubgraph[del_node_2].remove(del_node)\n",
        "\n",
        "\t\tbeta = beta - 1\n",
        "\t\tif (beta > 0 and (add_loss > 0 or del_loss > 0)):\n",
        "\t\t\tcontinue\n",
        "\t\telse:\n",
        "\t\t\tbreak\n",
        "\n",
        "\treturn IG_edgeList"
      ],
      "metadata": {
        "id": "QAjApv573NPB"
      },
      "execution_count": null,
      "outputs": []
    },
    {
      "cell_type": "code",
      "source": [
        "# Get target community node that would bring the maximum permanence loss \n",
        "# in case of inter-community edge addition\n",
        "def get_max_loss_node(target_comm, deg, in_deg, e_max, comm_max):\n",
        "\n",
        "\tmax_loss = 0\n",
        "\tnode = target_comm[0]\n",
        "\tmax_comm = 0\n",
        "\tif len(target_comm) == 1:\n",
        "\t\tnode = target_comm[0]\n",
        "\tfor i in range (0, len(target_comm)):\n",
        "\t\tif (e_max[i] == 0):\n",
        "\t\t\tloss_orig = 1/(deg[i])\n",
        "\t\telse:\n",
        "\t\t\tloss_orig = 1/(deg[i]*e_max[i])\n",
        "\t\tloss_new = 1/((deg[i] + 1)*(e_max[i] + 1))\n",
        "\t\tloss = (loss_orig - loss_new)*in_deg[i]\n",
        "\t\tif loss > max_loss:\n",
        "\t\t\tmax_loss = loss\n",
        "\t\t\tnode = target_comm[i]\n",
        "\t\t\tmax_comm = comm_max[i]\n",
        "\n",
        "\treturn node, max_loss, max_comm"
      ],
      "metadata": {
        "id": "f_Ub5Oy22z9u"
      },
      "execution_count": null,
      "outputs": []
    },
    {
      "cell_type": "code",
      "source": [
        "# Get target community node that would bring the maximum permanence loss \n",
        "# in case of inter-community edge addition\n",
        "def get_max_loss_node_2(target_comm, deg, in_deg, e_max, comm_max, con_list):\n",
        "\n",
        "\tmax_loss = 0\n",
        "\tnode = -1\n",
        "\tmax_comm = 0\n",
        "\tif len(target_comm) == 1:\n",
        "\t\tnode = target_comm[0]\n",
        "\tfor i in range (0, len(target_comm)):\n",
        "\t\tif (e_max[i] == 0):\n",
        "\t\t\tloss_orig = 1/(deg[i])\n",
        "\t\telse:\n",
        "\t\t\tloss_orig = 1/(deg[i]*e_max[i])\n",
        "\t\tif (con_list[i] == e_max[i]):\n",
        "\t\t\tloss_new = 1/((deg[i] + 1)*(e_max[i] + 1))\n",
        "\t\telse:\n",
        "\t\t\tif (e_max[i] == 0):\n",
        "\t\t\t\tloss_new = 1/(deg[i] + 1)\n",
        "\t\t\telse:\n",
        "\t\t\t\tloss_new = 1/((deg[i] + 1)*e_max[i])\n",
        "\t\tloss = (loss_orig - loss_new)*in_deg[i]\n",
        "\t\tif loss > max_loss:\n",
        "\t\t\tmax_loss = loss\n",
        "\t\t\tnode = target_comm[i]\n",
        "\t\t\tmax_comm = comm_max[i]\n",
        "\n",
        "\treturn node, max_loss, max_comm"
      ],
      "metadata": {
        "id": "Pq3meaZQ8dwl"
      },
      "execution_count": null,
      "outputs": []
    },
    {
      "cell_type": "code",
      "source": [
        "# Find a node in the E_max(u) community to add an inter-community edge\n",
        "def get_add_node(target_comm, IG_edgeList, communities, add_node, comm_max):\n",
        "\n",
        "\tind_node = target_comm.index(add_node)\n",
        "\tind_comm = comm_max[ind_node]\n",
        "\tcomm = communities[ind_comm]\n",
        "\tnode = -1\n",
        "\tfor i in comm:\n",
        "\t\tif ((i, add_node) not in IG_edgeList and (add_node, i) not in IG_edgeList):\n",
        "\t\t\tnode = i\n",
        "\n",
        "\treturn node"
      ],
      "metadata": {
        "id": "Sk_QMpjY9gHC"
      },
      "execution_count": null,
      "outputs": []
    },
    {
      "cell_type": "code",
      "source": [
        "# Find the local clustering coefficient for a node\n",
        "def get_c_in(node, subgraph):\n",
        "\n",
        "\tnode_neighbours = subgraph[node]\n",
        "\tnum = len(node_neighbours)\n",
        "\tcount = 0\n",
        "\tfor i in node_neighbours:\n",
        "\t\tli = subgraph[i]\n",
        "\t\tfor j in li:\n",
        "\t\t\tif j in node_neighbours:\n",
        "\t\t\t\tcount = count + 1\n",
        "\tif (num*(num - 1) == 0):\n",
        "\t\tratio = (count / 2) / ((num) / 2)\n",
        "\telse:\n",
        "\t\tratio = (count / 2) / ((num * (num - 1)) / 2)\n",
        "  \n",
        "\treturn ratio"
      ],
      "metadata": {
        "id": "L_V9J3dm-Fvf"
      },
      "execution_count": null,
      "outputs": []
    },
    {
      "cell_type": "code",
      "source": [
        "# Get the non bridging edges in the target community\n",
        "def getBestDelExclBridges(target_comm, edges, Adjacency_List, num_vertices):\n",
        "\t\n",
        "\tbest_edges = []\n",
        "\tfor i in edges:\n",
        "\t\tCpy_Adj_List = copy.deepcopy(Adjacency_List)\n",
        "\t\tCpy_Adj_List[i[0]].remove(i[1])\n",
        "\t\tCpy_Adj_List[i[1]].remove(i[0])\n",
        "\t\ttry:\n",
        "\t\t\tif(connectedComponents(target_comm, num_vertices, Cpy_Adj_List)) == 1:\n",
        "\t\t\t\tbest_edges.append(i)\n",
        "\t\texcept:\n",
        "\t\t\tcontinue\n",
        "\n",
        "\treturn best_edges"
      ],
      "metadata": {
        "id": "qoSLT2tH-uM3"
      },
      "execution_count": null,
      "outputs": []
    },
    {
      "cell_type": "code",
      "source": [
        "# Calculating the number of components for the subgraph spanned by \n",
        "# vertices of target community (used for finding the bridge edges)\n",
        "\n",
        "def DFSUtil(target_comm, temp, v, visited, Adjacency_List):\n",
        "\n",
        "\tvisited[v] = True\n",
        "\ttemp.append(v)\n",
        "\tfor i in Adjacency_List[target_comm[v]]:\n",
        "\t\tif visited[target_comm.index(i)] == False:\n",
        "\t\t\ttemp = DFSUtil(target_comm, temp, target_comm.index(i), visited, Adjacency_List)\n",
        "\treturn temp\n",
        "\n",
        "def connectedComponents(target_comm, num_vertices, Adjacency_List):\n",
        "\tvisited = [] \n",
        "\tcc = [] \n",
        "\tfor i in range(num_vertices):\n",
        "\t\tvisited.append(False)\n",
        "\tfor v in range(num_vertices):\n",
        "\t\tif visited[v] == False: \n",
        "\t\t\ttemp = [] \n",
        "\t\t\tcc.append(DFSUtil(target_comm, temp, v, visited, Adjacency_List))\n",
        "\treturn len(cc)"
      ],
      "metadata": {
        "id": "NcPJGT2X_Xb7"
      },
      "execution_count": null,
      "outputs": []
    },
    {
      "cell_type": "code",
      "source": [
        "# Get the intra-community edge to be deleted\n",
        "def get_del_max_loss(target_comm, best_edges, deg, in_deg, e_max, subgraph):\n",
        "\n",
        "\tmax_loss = 0\n",
        "\tnode_u = 0\n",
        "\tnode_v = 0\n",
        "\tfor i in best_edges:\n",
        "\t\tu = target_comm.index(i[0])\n",
        "\t\tv = target_comm.index(i[1])\n",
        "\t\tif (e_max[u] != 0):\n",
        "\t\t\tu_loss_1 = (1/e_max[u])*((deg[u] - in_deg[u])/(deg[u]*(deg[u] - 1)))\n",
        "\t\telse:\n",
        "\t\t\terr = (deg[u]*(deg[u] - 1))\n",
        "\t\t\tif (err == 0):\n",
        "\t\t\t\terr = 1\n",
        "\t\t\tu_loss_1 = ((deg[u] - in_deg[u])/(err))\n",
        "\t\tif (e_max[v] != 0):\n",
        "\t\t\tv_loss_1 = (1/e_max[v])*((deg[v] - in_deg[v])/(deg[v]*(deg[v] - 1)))\n",
        "\t\telse:\n",
        "\t\t\terr = (deg[u]*(deg[u] - 1))\n",
        "\t\t\tif (err == 0):\n",
        "\t\t\t\terr = 1\n",
        "\t\t\tv_loss_1 = ((deg[v] - in_deg[v])/(err))\n",
        "\t\tu_loss_2_a = get_c_in(i[0], subgraph)\n",
        "\t\tv_loss_2_a = get_c_in(i[1], subgraph)\n",
        "\t\tsubgraph_prime = copy.deepcopy(subgraph)\n",
        "\t\tsubgraph_prime[i[0]].remove(i[1])\n",
        "\t\tsubgraph_prime[i[1]].remove(i[0])\n",
        "\t\tu_loss_2_b = get_c_in(i[0], subgraph_prime)\n",
        "\t\tv_loss_2_b = get_c_in(i[1], subgraph_prime)\n",
        "\t\tloss = u_loss_1 + v_loss_1 + (u_loss_2_a - u_loss_2_b) + (v_loss_2_a - v_loss_2_b)\n",
        "\t\tif loss > max_loss:\n",
        "\t\t\tmax_loss = loss\n",
        "\t\t\tnode_u = i[0]\n",
        "\t\t\tnode_v = i[1]\n",
        "\n",
        "\treturn ((node_u, node_v), max_loss)"
      ],
      "metadata": {
        "id": "9vXy1ZQFAZCR"
      },
      "execution_count": null,
      "outputs": []
    },
    {
      "cell_type": "code",
      "source": [
        "def get_random_comm(communities, target_comm):\n",
        "\n",
        "  max_len = 0\n",
        "  index = 0\n",
        "  for i in range (0, len(communities)):\n",
        "    if (communities[i] != target_comm):\n",
        "      len_ = len(communities[i])\n",
        "      if len_ > max_len:\n",
        "        max_len = len_\n",
        "        index = i\n",
        "  return index"
      ],
      "metadata": {
        "id": "zbC3-4dzCcFo"
      },
      "execution_count": null,
      "outputs": []
    },
    {
      "cell_type": "code",
      "source": [
        "def num_comm(target_comm, communities):\n",
        "  uni_comm = []\n",
        "  comm_list = []\n",
        "  for node in target_comm:\n",
        "    for c in communities:\n",
        "      if node in c:\n",
        "        comm_list.append(c)\n",
        "        if c not in uni_comm:\n",
        "          uni_comm.append(c)\n",
        "          break\n",
        "  return len(uni_comm), comm_list"
      ],
      "metadata": {
        "id": "j15OhXKVDBs8"
      },
      "execution_count": null,
      "outputs": []
    },
    {
      "cell_type": "code",
      "source": [
        "def get_targetComm_Neighbours(target_comm, communities, Adjacency_List):\n",
        "\tList = []\n",
        "\tmarked = dict()\n",
        "\tfor i in target_comm:\n",
        "\t\tfor j in Adjacency_List[i]:\n",
        "\t\t\tif j not in marked:\n",
        "\t\t\t\tfor k in range(len(communities)):\n",
        "\t\t\t\t\tif j in communities[k]:\n",
        "\t\t\t\t\t\tList.append(k)\n",
        "\t\t\t\t\t\tmarked[j] = j\n",
        "\treturn List, marked"
      ],
      "metadata": {
        "id": "KSfuGJ1xDUVy"
      },
      "execution_count": null,
      "outputs": []
    },
    {
      "cell_type": "code",
      "source": [
        "def check_neighbours(neighbours, communities):\n",
        "\tctr = 0\n",
        "\tList = []\n",
        "\tfor i in range(len(communities)):\n",
        "\t\tfor j in communities[i]:\n",
        "\t\t\tif j in neighbours:\n",
        "\t\t\t\tList.append(i)\n",
        "\t\t\t\tctr += 1\n",
        "\t\t\tif ctr == len(neighbours):\n",
        "\t\t\t\treturn List\n",
        "\treturn List"
      ],
      "metadata": {
        "id": "xeOsZDtuDt9B"
      },
      "execution_count": null,
      "outputs": []
    },
    {
      "cell_type": "code",
      "source": [
        "def get_entropy(labels, base = None):\n",
        "  values, counts = np.unique(labels, return_counts = True)\n",
        "  return entropy(counts, base = base)"
      ],
      "metadata": {
        "id": "uaARYEoPRG0o"
      },
      "execution_count": null,
      "outputs": []
    },
    {
      "cell_type": "markdown",
      "source": [
        "# Check the Test & Result"
      ],
      "metadata": {
        "id": "TpfUtxbgSJ_w"
      }
    },
    {
      "cell_type": "code",
      "source": [
        "# Pass the network for which the algorithm has to be run\n",
        "\n",
        "graph = nx.read_gml('/content/drive/MyDrive/CommunityDetection/Dol.gml', label=\"id\")\n",
        "e_ =list(graph.edges)\n",
        "Adjacency_List = get_adj_list(e_)\n",
        "\n",
        "# Specify nodes in the network\n",
        "num_vertices = 62\n",
        "IG_edgeList = []\n",
        "for i in e_:\n",
        "  IG_edgeList.append((i[0], i[1]))\n",
        "\n",
        "g = igraph.Graph(directed=False)\n",
        "g.add_vertices(num_vertices)\n",
        "g.add_edges(IG_edgeList)\n",
        "\n",
        "# Get the community structure for the network passing the network through community detection algorithms\n",
        "communities = g.community_multilevel()\n",
        "comm_1 = copy.deepcopy(communities)\n",
        "safe_copy_comm = copy.deepcopy(communities)\n",
        "\n",
        "comm_length = len(communities)\n",
        "\n",
        "NMI_List = []\n",
        "Neighbourhood_NMI_List = []\n",
        "sum_comm = 0\n",
        "sum_entropy = 0"
      ],
      "metadata": {
        "id": "sBtMNzEvRUmS"
      },
      "execution_count": null,
      "outputs": []
    },
    {
      "cell_type": "code",
      "source": [
        "# Run over all target communities\n",
        "\n",
        "for i in range (0, len(communities)):\n",
        "\n",
        "  graph = nx.read_gml('/content/drive/MyDrive/CommunityDetection/Dol.gml', label = \"id\")\n",
        "  e_ = list(graph.edges)\n",
        "  Adjacency_List = get_adj_list(e_)\n",
        "  num_vertices = 62\n",
        "\n",
        "  IG_edgeList = []\n",
        "  for j in e_:\n",
        "    IG_edgeList.append((j[0], j[1]))\n",
        "\n",
        "  g = igraph.Graph(directed = False)\n",
        "  g.add_vertices(num_vertices)\n",
        "  g.add_edges(IG_edgeList)\n",
        "\n",
        "  target_comm = communities[i]\n",
        "  target_comm_index = i\n",
        "  pre_neighbours, neighbours = get_targetComm_Neighbours(target_comm, comm_1, Adjacency_List)\n",
        "\n",
        "  # calculating different network properties\n",
        "  deg = []\n",
        "  for c in communities:\n",
        "    deg_list = []\n",
        "    for j in c:\n",
        "      deg_list.append(g.vs[j].degree())\n",
        "    deg.append(deg_list)\n",
        "\n",
        "  in_deg = []\n",
        "  for c in communities:\n",
        "    in_deg_list = []\n",
        "    for j in c:\n",
        "      in_ = 0\n",
        "      for k in Adjacency_List[j]:\n",
        "        if k in c:\n",
        "          in_ = in_ + 1\n",
        "      in_deg_list.append(in_)\n",
        "    in_deg.append(in_deg_list)\n",
        "\n",
        "  e_max_list = []\n",
        "  comm_max_list = []\n",
        "  for c in communities:\n",
        "    e_max = []\n",
        "    comm_max = []\n",
        "    for l in c:\n",
        "      max_count = 0\n",
        "      comm = -1\n",
        "      for j in range (0, len(communities)):\n",
        "        count = 0\n",
        "        if communities[j] != c:\n",
        "          for k in Adjacency_List[l]:\n",
        "            if k in communities[j]:\n",
        "              count = count + 1\n",
        "        if count > max_count:\n",
        "          max_count = count\n",
        "          comm = j\n",
        "      if comm == -1:\n",
        "        index = get_random_comm(communities, target_comm)\n",
        "        comm = index\n",
        "      e_max.append(max_count)\n",
        "      comm_max.append(comm)\n",
        "    e_max_list.append(e_max)\n",
        "    comm_max_list.append(comm_max)\n",
        "\n",
        "  subgraph = {}\n",
        "  for l in Adjacency_List.keys():\n",
        "    if l in target_comm:\n",
        "      subgraph[l] = []\n",
        "      for j in Adjacency_List[l]:\n",
        "        if j in target_comm:\n",
        "          subgraph[l].append(j)\n",
        "\n",
        "  subedge = []\n",
        "  for l in IG_edgeList:\n",
        "    if l[0] in target_comm and l[1] in target_comm:\n",
        "      subedge.append(l)\n",
        "\n",
        "  subvertices = len(target_comm)\n",
        "\n",
        "  # Selecting a value for budget beta\n",
        "  beta = int(0.3*len(target_comm))\n",
        "  IG_edgeList_ = perm_loss_decep(target_comm, IG_edgeList, deg, in_deg, e_max_list, comm_max_list, communities, subedge, subgraph, subvertices, beta, target_comm_index)\n",
        "\n",
        "  # Communities in the updated graph\n",
        "  g = igraph.Graph(directed = False)\n",
        "  num_vertices = 62\n",
        "  g.add_vertices(num_vertices)\n",
        "  g.add_edges(IG_edgeList_)\n",
        "\n",
        "  communities = g.community_multilevel()\n",
        "  post_neighbours = check_neighbours(neighbours, communities)\n",
        "  \n",
        "  num_splits, comm_list = num_comm(target_comm, communities)\n",
        "  sum_comm = sum_comm + num_splits\n",
        "  \n",
        "  nmi = igraph.compare_communities(comm_1, communities, method = \"nmi\")\n",
        "  \n",
        "  nmi_neighbourhood = igraph.compare_communities(pre_neighbours, post_neighbours, method = \"nmi\")\n",
        "  \n",
        "  entropy_val = get_entropy(comm_list)\n",
        "  sum_entropy = sum_entropy + entropy_val\n",
        "\n",
        "  NMI_List.append(nmi)\n",
        "  Neighbourhood_NMI_List.append(nmi_neighbourhood)\n",
        "  communities = safe_copy_comm"
      ],
      "metadata": {
        "id": "QCWvMBkyR5UH"
      },
      "execution_count": null,
      "outputs": []
    }
  ]
}